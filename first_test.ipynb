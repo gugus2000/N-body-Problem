{
 "cells": [
  {
   "cell_type": "markdown",
   "metadata": {},
   "source": [
    "# Premiers test\n",
    "## Imports"
   ]
  },
  {
   "cell_type": "code",
   "execution_count": 42,
   "metadata": {},
   "outputs": [],
   "source": [
    "import numpy as np\n",
    "import matplotlib.pyplot as plt"
   ]
  },
  {
   "cell_type": "markdown",
   "metadata": {},
   "source": [
    "## Constante"
   ]
  },
  {
   "cell_type": "code",
   "execution_count": 43,
   "metadata": {},
   "outputs": [],
   "source": [
    "C_G=6.67e-11 # en N.m^2.kg^-2"
   ]
  },
  {
   "cell_type": "markdown",
   "metadata": {},
   "source": [
    "## Définition des conditions initiales"
   ]
  },
  {
   "cell_type": "code",
   "execution_count": 44,
   "metadata": {},
   "outputs": [],
   "source": [
    "premiere_position_planete_1={\n",
    "    'x':0,\n",
    "    'y':0,\n",
    "    'z':0,\n",
    "    'masse':2e30,\n",
    "    'rayon':696e6,\n",
    "    'vitesse':0\n",
    "}\n",
    "premiere_position_planete_2={\n",
    "    'x':150e9,\n",
    "    'y':0,\n",
    "    'z':0,\n",
    "    'masse':6e24,\n",
    "    'rayon':6.4e6,\n",
    "    'vitesse':[0,29.8e3,0]\n",
    "}"
   ]
  },
  {
   "cell_type": "markdown",
   "metadata": {},
   "source": [
    "## Définition des fonctions"
   ]
  },
  {
   "cell_type": "code",
   "execution_count": 85,
   "metadata": {},
   "outputs": [],
   "source": [
    "def cartesian2spheric(x, y, z):\n",
    "    \"\"\"Transforme une coordonnée cartésienne en coordonnée sphérique\"\"\"\n",
    "    r=np.sqrt(x**2 + y**2 + z**2)\n",
    "    if r!=0:\n",
    "        theta=np.arccos(z/r)\n",
    "    else:\n",
    "        theta=0\n",
    "    if x!=0:\n",
    "        phi=np.arctan2(y,x)\n",
    "    else:\n",
    "        phi=0\n",
    "    return r, theta, phi\n",
    "    \n",
    "def spheric2cartesian(r, theta, phi):\n",
    "    \"\"\"Transforme une coordonnée sphérique en coordonnée cartésienne\"\"\"\n",
    "    x=r*np.sin(theta)*np.cos(phi)\n",
    "    y=r*np.sin(theta)*np.sin(phi)\n",
    "    z=r*np.cos(theta)\n",
    "    return x, y, z\n",
    "    \n",
    "def calculForce(astre_subissant, astre_influant):\n",
    "    \"\"\"Calcul la force exercé par l'astre influant sur l'astre subissant\"\"\"\n",
    "    x=astre_subissant['x']-astre_influant['x']\n",
    "    y=astre_subissant['y']-astre_influant['y']\n",
    "    z=astre_subissant['z']-astre_influant['z']\n",
    "    astre_subissant['r'], astre_subissant['theta'], astre_subissant['phi']=cartesian2spheric(x, y, z)\n",
    "    force=C_G*(astre_subissant['masse']*astre_influant['masse'])/(astre_subissant['r']**2)\n",
    "    vecteur_force={\n",
    "        'r':-force,\n",
    "        'theta':astre_subissant['theta'],\n",
    "        'phi':astre_subissant['phi']\n",
    "    }\n",
    "    return spheric2cartesian(vecteur_force['r'], vecteur_force['theta'], vecteur_force['phi'])\n",
    "\n",
    "calculVitesse=lambda force, masse, periode: (force/masse)*periode"
   ]
  },
  {
   "cell_type": "code",
   "execution_count": 86,
   "metadata": {},
   "outputs": [
    {
     "name": "stdout",
     "output_type": "stream",
     "text": [
      "correct\n",
      "--------------\n",
      "correct\n",
      "--------------\n",
      "correct\n",
      "--------------\n",
      "correct\n",
      "--------------\n",
      "[0, 1, 1]\n",
      "[1.4142135623730951, 0.7853981633974484, 0]\n",
      "[1.0000000000000002, 0.0, 1.0]\n",
      "--------------\n",
      "[0, 1, 0]\n",
      "[1.0, 1.5707963267948966, 0]\n",
      "[1.0, 0.0, 6.123233995736766e-17]\n",
      "--------------\n",
      "correct\n",
      "--------------\n",
      "correct\n",
      "--------------\n"
     ]
    }
   ],
   "source": [
    "TEST_cartesiens=[[0,0,0], [1,0,0], [1,0,1], [1,1,1], [0,1,1], [0,1,0], [1,0,1], [0,0,1]]\n",
    "for coordonnees in TEST_cartesiens:\n",
    "    coordonnees_speric=list(cartesian2spheric(coordonnees[0], coordonnees[1], coordonnees[2]))\n",
    "    coordonnees_cart=list(spheric2cartesian(coordonnees_speric[0], coordonnees_speric[1], coordonnees_speric[2]))\n",
    "    if coordonnees_cart[0]-coordonnees[0]>0.1:\n",
    "        print(coordonnees)\n",
    "        print(coordonnees_speric)\n",
    "        print(coordonnees_cart)\n",
    "    elif coordonnees_cart[1]-coordonnees[1]>0.1:\n",
    "        print(coordonnees)\n",
    "        print(coordonnees_speric)\n",
    "        print(coordonnees_cart)\n",
    "    elif coordonnees_cart[1]-coordonnees[1]>0.1:\n",
    "        print(coordonnees)\n",
    "        print(coordonnees_speric)\n",
    "        print(coordonnees_cart)\n",
    "    else:\n",
    "        print(\"correct\")\n",
    "    print('--------------')"
   ]
  },
  {
   "cell_type": "code",
   "execution_count": 87,
   "metadata": {},
   "outputs": [
    {
     "name": "stdout",
     "output_type": "stream",
     "text": [
      "correct\n",
      "--------------\n",
      "correct\n",
      "--------------\n",
      "correct\n",
      "--------------\n",
      "correct\n",
      "--------------\n",
      "[0, -1, -1]\n",
      "[1.4142135623730951, 2.356194490192345, 0]\n",
      "[1.0000000000000002, 0.0, -1.0]\n",
      "--------------\n",
      "[0, -1, 0]\n",
      "[1.0, 1.5707963267948966, 0]\n",
      "[1.0, 0.0, 6.123233995736766e-17]\n",
      "--------------\n",
      "correct\n",
      "--------------\n",
      "correct\n",
      "--------------\n"
     ]
    }
   ],
   "source": [
    "TEST_cartesiens=[[0,0,0], [-1,0,0], [-1,0,-1], [-1,-1,-1], [0,-1,-1], [0,-1,0], [-1,0,-1], [0,0,-1]]\n",
    "for coordonnees in TEST_cartesiens:\n",
    "    coordonnees_speric=list(cartesian2spheric(coordonnees[0], coordonnees[1], coordonnees[2]))\n",
    "    coordonnees_cart=list(spheric2cartesian(coordonnees_speric[0], coordonnees_speric[1], coordonnees_speric[2]))\n",
    "    if coordonnees_cart[0]-coordonnees[0]>0.1:\n",
    "        print(coordonnees)\n",
    "        print(coordonnees_speric)\n",
    "        print(coordonnees_cart)\n",
    "    elif coordonnees_cart[1]-coordonnees[1]>0.1:\n",
    "        print(coordonnees)\n",
    "        print(coordonnees_speric)\n",
    "        print(coordonnees_cart)\n",
    "    elif coordonnees_cart[1]-coordonnees[1]>0.1:\n",
    "        print(coordonnees)\n",
    "        print(coordonnees_speric)\n",
    "        print(coordonnees_cart)\n",
    "    else:\n",
    "        print(\"correct\")\n",
    "    print('--------------')"
   ]
  },
  {
   "cell_type": "code",
   "execution_count": null,
   "metadata": {},
   "outputs": [],
   "source": []
  }
 ],
 "metadata": {
  "kernelspec": {
   "display_name": "Python 3",
   "language": "python",
   "name": "python3"
  },
  "language_info": {
   "codemirror_mode": {
    "name": "ipython",
    "version": 3
   },
   "file_extension": ".py",
   "mimetype": "text/x-python",
   "name": "python",
   "nbconvert_exporter": "python",
   "pygments_lexer": "ipython3",
   "version": "3.7.1"
  }
 },
 "nbformat": 4,
 "nbformat_minor": 2
}
