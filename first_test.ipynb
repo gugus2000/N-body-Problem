{
 "cells": [
  {
   "cell_type": "markdown",
   "metadata": {},
   "source": [
    "# Premiers test\n",
    "## Imports"
   ]
  },
  {
   "cell_type": "code",
   "execution_count": 1,
   "metadata": {},
   "outputs": [],
   "source": [
    "import numpy as np\n",
    "import matplotlib.pyplot as plt"
   ]
  },
  {
   "cell_type": "markdown",
   "metadata": {},
   "source": [
    "## Constante"
   ]
  },
  {
   "cell_type": "code",
   "execution_count": 2,
   "metadata": {},
   "outputs": [],
   "source": [
    "C_G=6.67e-11 # en N.m^2.kg^-2"
   ]
  },
  {
   "cell_type": "markdown",
   "metadata": {},
   "source": [
    "## Définition des conditions initiales"
   ]
  },
  {
   "cell_type": "code",
   "execution_count": 7,
   "metadata": {},
   "outputs": [],
   "source": [
    "premiere_position_planete_1={\n",
    "    'x':0,\n",
    "    'y':0,\n",
    "    'z':0,\n",
    "    'masse':2e30,\n",
    "    'rayon':696e6,\n",
    "    'vitesse':0\n",
    "}\n",
    "premiere_position_planete_2={\n",
    "    'x':150e9,\n",
    "    'y':0,\n",
    "    'z':0,\n",
    "    'masse':6e24,\n",
    "    'rayon':6.4e6,\n",
    "    'vitesse':[0,29.8e3,0]\n",
    "}"
   ]
  },
  {
   "cell_type": "markdown",
   "metadata": {},
   "source": [
    "## Définition des fonctions"
   ]
  },
  {
   "cell_type": "code",
   "execution_count": null,
   "metadata": {},
   "outputs": [],
   "source": [
    "def cartesian2spheric(x, y, z):\n",
    "    r=sqrt(x**2 + y**2 + z**2)\n",
    "    theta=np.arcsin(y/r)\n",
    "    phi=np.arctan2(x/z)\n",
    "    if (phi>=2*np.pi):\n",
    "        phi-=np.pi/2\n",
    "    if (phi<0):\n",
    "        phi+=np.pi/2\n",
    "    return r, theta, phi\n",
    "    \n",
    "def spheric2cartesian(r, theta, phi):\n",
    "    x=r*np.cos(theta)*np.sin(phi)\n",
    "    y=r*np.sin(theta)\n",
    "    z=r*np.cos(theta)*np.cos(phi)\n",
    "    return x, y, z\n",
    "    \n",
    "def calculForce(astre_subissant, astre_influant):\n",
    "    x=astre_subissant['x']-astre_influant['x']\n",
    "    y=astre_subissant['y']-astre_influant['y']\n",
    "    z=astre_subissant['z']-astre_influant['z']\n",
    "    astre_subissant['r'], astre_subissant['theta'], astre_subissant['phi']=cartesian2spheric(astre_subissant['x'], astre_subissant['y'], astre_subissant['z'])\n",
    "    force=C_G*(astre_subissant['masse']*astre_influant['masse'])/(astre_subissant['r']**2)\n",
    "    vecteur_force={\n",
    "        'r':-force,\n",
    "        'theta':astre_subissant['theta'],\n",
    "        'phi':astre_subissant['phi']\n",
    "    }\n",
    "    return spheric2cartesian(vecteur_force['r'], vecteur_force['theta'], vecteur_force['phi'])\n",
    "\n",
    "calculVitesse=lambda force, masse, periode: (force/masse)*periode"
   ]
  }
 ],
 "metadata": {
  "kernelspec": {
   "display_name": "Python 3",
   "language": "python",
   "name": "python3"
  },
  "language_info": {
   "codemirror_mode": {
    "name": "ipython",
    "version": 3
   },
   "file_extension": ".py",
   "mimetype": "text/x-python",
   "name": "python",
   "nbconvert_exporter": "python",
   "pygments_lexer": "ipython3",
   "version": "3.7.1"
  }
 },
 "nbformat": 4,
 "nbformat_minor": 2
}
