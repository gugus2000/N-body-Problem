{
 "cells": [
  {
   "cell_type": "code",
   "execution_count": 3,
   "metadata": {},
   "outputs": [
    {
     "name": "stdout",
     "output_type": "stream",
     "text": [
      "[2, 1, 9]\n",
      "True\n",
      "[2, 1, 9, 4]\n",
      "----\n",
      "5\n",
      "8\n",
      "True\n",
      "5\n"
     ]
    }
   ],
   "source": [
    "def a(liste):\n",
    "    liste.append(4)\n",
    "    return True\n",
    "\n",
    "def c(entier):\n",
    "    entier+=3\n",
    "    print(entier)\n",
    "    return True\n",
    "\n",
    "b=[2, 1, 9]\n",
    "print(b)\n",
    "print(a(b))\n",
    "print(b)\n",
    "\n",
    "print('----')\n",
    "\n",
    "d=5\n",
    "print(d)\n",
    "print(c(d))\n",
    "print(d)"
   ]
  },
  {
   "cell_type": "code",
   "execution_count": null,
   "metadata": {},
   "outputs": [],
   "source": []
  }
 ],
 "metadata": {
  "kernelspec": {
   "display_name": "Python 3",
   "language": "python",
   "name": "python3"
  },
  "language_info": {
   "codemirror_mode": {
    "name": "ipython",
    "version": 3
   },
   "file_extension": ".py",
   "mimetype": "text/x-python",
   "name": "python",
   "nbconvert_exporter": "python",
   "pygments_lexer": "ipython3",
   "version": "3.7.1"
  }
 },
 "nbformat": 4,
 "nbformat_minor": 2
}
