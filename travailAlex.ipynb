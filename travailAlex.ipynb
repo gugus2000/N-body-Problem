{
 "cells": [
  {
   "cell_type": "code",
   "execution_count": null,
   "metadata": {},
   "outputs": [],
   "source": [
    "import numpy as np \n",
    "import pandas as pd \n",
    "import matplotlib.pyplot as plt\n",
    "\n",
    "#conditions initiales des corps\n",
    "soleil={\n",
    "    'x' : 0, # m\n",
    "    'y' : 0, # m\n",
    "    'z' : 0, # m\n",
    "    'masse' : 1.989e30, # kg\n",
    "    'rayon' : 696e6, # m\n",
    "    'vitesse'  : 0, # m/s\n",
    "}\n",
    "\n",
    "terre={\n",
    "    'x' : 150e9, # m\n",
    "    'y' : 0, # m\n",
    "    'z' : 0, # m\n",
    "    'masse' : 5.972e24, # kg\n",
    "    'rayon' : 6.4e6, # m\n",
    "    'vitesse' : [0,29.8e3,0], # m/s\n",
    "}\n",
    "\n",
    "conditions_initiales = [soleil, terre]\n",
    "nb_corps = len(liste_corps) # nombre de corps étudié dans le système\n",
    "positions_corps = [] + conditions initiales\n",
    "# mise en place du temps\n",
    "temps_initial = 0 # s\n",
    "temps_final = 2*365.25*3600*24 # s\n",
    "pas_temps = 1 # s\n",
    "\n",
    "intervalle = temps_final - temps_initial\n",
    "num_points = int(intervalle / pas_temps) + 1   # nombre d'éléments\n",
    "temps = np.linspace(temps_initial, temps_final, num_points)\n",
    "\n",
    "for element in temps : \n",
    "    nouvelles_positions = []\n",
    "    for planete in liste_corps : \n",
    "        somme_force_app = {\n",
    "            'x' : 0,\n",
    "            'y' : 0,\n",
    "            'z' : 0,\n",
    "        }\n",
    "        for i in range(nb_corps) : \n",
    "            if planete == positions_corps[-1] :\n",
    "                somme_force_app += calculForce(planete,liste_corps[-1])                \n",
    "        planete['vitesse'] += calculVitesse\n",
    "        planete['x'] += planete['vitesse'][0]*pas_temps\n",
    "        planete['y'] += planete['vitesse'][1]*pas_temps\n",
    "        planete['z'] += planete['vitesse'][2]*pas_temps\n",
    "        nouvelles_positions.append(planete)\n",
    "    position_corps.append(nouvelles_positions)\n",
    "    \n",
    "    \n",
    "        \n",
    "\n"
   ]
  }
 ],
 "metadata": {
  "kernelspec": {
   "display_name": "Python 3",
   "language": "python",
   "name": "python3"
  },
  "language_info": {
   "codemirror_mode": {
    "name": "ipython",
    "version": 3
   },
   "file_extension": ".py",
   "mimetype": "text/x-python",
   "name": "python",
   "nbconvert_exporter": "python",
   "pygments_lexer": "ipython3",
   "version": "3.7.1"
  }
 },
 "nbformat": 4,
 "nbformat_minor": 2
}
