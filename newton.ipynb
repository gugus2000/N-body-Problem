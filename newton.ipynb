{
 "cells": [
  {
   "cell_type": "markdown",
   "metadata": {},
   "source": [
    "# Problème des N-corps avec Python\n",
    "## Imports"
   ]
  },
  {
   "cell_type": "code",
   "execution_count": 25,
   "metadata": {},
   "outputs": [],
   "source": [
    "import numpy as np\n",
    "import matplotlib.pyplot as plt"
   ]
  },
  {
   "cell_type": "markdown",
   "metadata": {},
   "source": [
    "## Constante"
   ]
  },
  {
   "cell_type": "code",
   "execution_count": 26,
   "metadata": {},
   "outputs": [],
   "source": [
    "C_G=6.67e-11 # en N.m^2.kg^-2"
   ]
  },
  {
   "cell_type": "markdown",
   "metadata": {},
   "source": [
    "## Définition des conditions initiales"
   ]
  },
  {
   "cell_type": "code",
   "execution_count": 30,
   "metadata": {},
   "outputs": [],
   "source": [
    "soleil={\n",
    "    'x':0,\n",
    "    'y':0,\n",
    "    'z':0,\n",
    "    'masse':2e30,\n",
    "    'rayon':696e6,\n",
    "    'vitesse': {\n",
    "        'x': 0,\n",
    "        'y': 0,\n",
    "        'z': 0,\n",
    "    }\n",
    "}\n",
    "mercure={\n",
    "    'x':28e9,\n",
    "    'y':0,\n",
    "    'z':0,\n",
    "    'masse':3.3e23,\n",
    "    'rayon':2.5e6,\n",
    "    'vitesse': {\n",
    "        'x': 0,\n",
    "        'y': 47e3,\n",
    "        'z': 0,\n",
    "    }\n",
    "}\n",
    "venus={\n",
    "    'x':108e9,\n",
    "    'y':0,\n",
    "    'z':0,\n",
    "    'masse':4.8e24,\n",
    "    'rayon':6e6,\n",
    "    'vitesse': {\n",
    "        'x': 0,\n",
    "        'y': 35e3,\n",
    "        'z':0,\n",
    "    }\n",
    "}\n",
    "terre={\n",
    "    'x':150e9,\n",
    "    'y':0,\n",
    "    'z':0,\n",
    "    'masse':6e24,\n",
    "    'rayon':6.4e6,\n",
    "    'vitesse': {\n",
    "        'x': 0,\n",
    "        'y': 29.8e3,\n",
    "        'z': 0,\n",
    "    }\n",
    "}\n",
    "mars={\n",
    "    'x':227e9,\n",
    "    'y':0,\n",
    "    'z':0,\n",
    "    'masse':6.4e23,\n",
    "    'rayon':3.4e6,\n",
    "    'vitesse': {\n",
    "        'x': 0,\n",
    "        'y': 24e3,\n",
    "        'z': 0,\n",
    "    }\n",
    "}\n",
    "jupiter={\n",
    "    'x':778e9,\n",
    "    'y':0,\n",
    "    'z':0,\n",
    "    'masse':1.9e27,\n",
    "    'rayon':70e6,\n",
    "    'vitesse': {\n",
    "        'x':0,\n",
    "        'y':13e3,\n",
    "        'z':0,\n",
    "    }\n",
    "}\n",
    "saturne={\n",
    "    'x':1.4e12,\n",
    "    'y':0,\n",
    "    'z':0,\n",
    "    'masse':568e24,\n",
    "    'rayon':60e6,\n",
    "    'vitesse': {\n",
    "        'x':0,\n",
    "        'y':9.6e3,\n",
    "        'z':0,\n",
    "    }\n",
    "}\n",
    "uranus={\n",
    "    'x':2.9e12,\n",
    "    'y':0,\n",
    "    'z':0,\n",
    "    'masse':8.7e25,\n",
    "    'rayon':25.6e6,\n",
    "    'vitesse': {\n",
    "        'x':0,\n",
    "        'y':6.8e3,\n",
    "        'z':0,\n",
    "    }\n",
    "}\n",
    "neptune={\n",
    "    'x':4.5e12,\n",
    "    'y':0,\n",
    "    'z':0,\n",
    "    'masse':102e24,\n",
    "    'rayon':24.8e6,\n",
    "    'vitesse': {\n",
    "        'x':0,\n",
    "        'y':5.4e3,\n",
    "        'z':0,\n",
    "    }\n",
    "}"
   ]
  },
  {
   "cell_type": "markdown",
   "metadata": {},
   "source": [
    "## Définition des fonctions"
   ]
  },
  {
   "cell_type": "code",
   "execution_count": 31,
   "metadata": {},
   "outputs": [],
   "source": [
    "def cartesian2spheric(x, y, z):\n",
    "    \"\"\"Transforme une coordonnée cartésienne en coordonnée sphérique\"\"\"\n",
    "    r=np.sqrt(x**2 + y**2 + z**2)\n",
    "    if r!=0:\n",
    "        theta=np.arccos(z/r)\n",
    "    else:\n",
    "        theta=0\n",
    "    if x!=0:\n",
    "        phi=np.arctan2(y,x)\n",
    "    else:\n",
    "        phi=0\n",
    "    return r, theta, phi\n",
    "    \n",
    "def spheric2cartesian(r, theta, phi):\n",
    "    \"\"\"Transforme une coordonnée sphérique en coordonnée cartésienne\"\"\"\n",
    "    x=r*np.sin(theta)*np.cos(phi)\n",
    "    y=r*np.sin(theta)*np.sin(phi)\n",
    "    z=r*np.cos(theta)\n",
    "    return x, y, z\n",
    "    \n",
    "def calculForce(astre_subissant, astre_influant):\n",
    "    \"\"\"Calcul la force exercé par l'astre influant sur l'astre subissant\"\"\"\n",
    "    x=astre_subissant['x']-astre_influant['x']\n",
    "    y=astre_subissant['y']-astre_influant['y']\n",
    "    z=astre_subissant['z']-astre_influant['z']\n",
    "    astre_subissant['r'], astre_subissant['theta'], astre_subissant['phi']=cartesian2spheric(x, y, z)\n",
    "    force=C_G*(astre_subissant['masse']*astre_influant['masse'])/(astre_subissant['r']**2)\n",
    "    vecteur_force={\n",
    "        'r':-force,\n",
    "        'theta':astre_subissant['theta'],\n",
    "        'phi':astre_subissant['phi']\n",
    "    }\n",
    "    return spheric2cartesian(vecteur_force['r'], vecteur_force['theta'], vecteur_force['phi'])\n",
    "\n",
    "calculVitesse=lambda force, masse, periode: {\n",
    "    'x': (force['x']/masse)*periode,\n",
    "    'y': (force['y']/masse)*periode,\n",
    "    'z': (force['z']/masse)*periode,\n",
    "}"
   ]
  },
  {
   "cell_type": "code",
   "execution_count": 32,
   "metadata": {},
   "outputs": [
    {
     "data": {
      "image/png": "[encoded data removed]",
      "text/plain": [
       "<Figure size 432x288 with 1 Axes>"
      ]
     },
     "metadata": {
      "needs_background": "light"
     },
     "output_type": "display_data"
    }
   ],
   "source": [
    "conditions_initiales = [soleil, mercure, venus, terre, mars, jupiter, saturne, uranus, neptune]\n",
    "nb_corps = len(conditions_initiales) # nombre de corps étudié dans le système\n",
    "positions_corps = [conditions_initiales]\n",
    "# mise en place du temps\n",
    "temps_initial = 0 # s\n",
    "temps_final = 2*365.25*3600*24 # s\n",
    "pas_temps = 3600*24 # en d# s\n",
    "\n",
    "intervalle = temps_final - temps_initial\n",
    "num_points = int(intervalle / pas_temps) + 1   # nombre d'éléments\n",
    "temps = np.linspace(temps_initial, temps_final, num_points)\n",
    "\n",
    "for element in temps : \n",
    "    nouvelles_positions = []\n",
    "    for planete in positions_corps[-1] :\n",
    "        plt.plot(planete['x'], planete['y'], ',k')\n",
    "        somme_force_app = {\n",
    "            'x' : 0,\n",
    "            'y' : 0,\n",
    "            'z' : 0,\n",
    "        }\n",
    "        for i in range(nb_corps) : \n",
    "            if planete != positions_corps[-1][i] :\n",
    "                force_x, force_y, force_z = calculForce(planete,positions_corps[-1][i])\n",
    "                somme_force_app['x']+=force_x\n",
    "                somme_force_app['y']+=force_y\n",
    "                somme_force_app['z']+=force_z\n",
    "        vitesse = calculVitesse(somme_force_app, planete['masse'], pas_temps)\n",
    "        planete['vitesse']['x']+=vitesse['x']\n",
    "        planete['vitesse']['y']+=vitesse['y']\n",
    "        planete['vitesse']['z']+=vitesse['z']\n",
    "        planete['x'] += planete['vitesse']['x']*pas_temps\n",
    "        planete['y'] += planete['vitesse']['y']*pas_temps\n",
    "        planete['z'] += planete['vitesse']['z']*pas_temps\n",
    "        nouvelles_positions.append(planete)\n",
    "    positions_corps.append(nouvelles_positions)\n",
    "plt.axis('square')\n",
    "plt.show()"
   ]
  },
  {
   "cell_type": "code",
   "execution_count": null,
   "metadata": {},
   "outputs": [],
   "source": []
  }
 ],
 "metadata": {
  "kernelspec": {
   "display_name": "Python 3",
   "language": "python",
   "name": "python3"
  },
  "language_info": {
   "codemirror_mode": {
    "name": "ipython",
    "version": 3
   },
   "file_extension": ".py",
   "mimetype": "text/x-python",
   "name": "python",
   "nbconvert_exporter": "python",
   "pygments_lexer": "ipython3",
   "version": "3.7.1"
  }
 },
 "nbformat": 4,
 "nbformat_minor": 2
}
